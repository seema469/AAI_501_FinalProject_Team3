{
 "cells": [
  {
   "cell_type": "markdown",
   "id": "e3410daa",
   "metadata": {},
   "source": [
    "This implementation is used to generate a single NumPy array file for both the training and testing datasets. The NumPy array contains images of single digits, created from coordinates obtained through metadata files. These metadata files provide the digit coordinates within the images."
   ]
  },
  {
   "cell_type": "code",
   "execution_count": null,
   "id": "f0a8b2fd",
   "metadata": {},
   "outputs": [],
   "source": [
    "import cv2\n",
    "import matplotlib.pyplot as plt\n",
    "import pandas as pd\n",
    "import numpy as np\n",
    "from PIL import Image\n",
    "import os"
   ]
  },
  {
   "cell_type": "markdown",
   "id": "212557d6",
   "metadata": {},
   "source": [
    "Remove Multidigit files. digitStruct.csv is created using the following Github source code - https://github.com/prijip/Py-Gsvhn-DigitStruct-Reader.git\n",
    "\n"
   ]
  },
  {
   "cell_type": "code",
   "execution_count": 9,
   "id": "fd94dff9",
   "metadata": {},
   "outputs": [],
   "source": [
    "def removeMultiDigitFilesAndCreateNPYarray(imageFilepath, outputFilename):\n",
    "    \n",
    "    CSVFilename = imageFilepath + \"\\\\digitStruct.csv\"\n",
    "    # Define the rectangle coordinates (x, y, width, height)\n",
    "    coordinates = pd.read_csv(CSVFilename)\n",
    "    \n",
    "    # Find all unique strings in the first column that occur more than once\n",
    "    value_counts = coordinates['FileName'].value_counts()\n",
    "    to_remove = value_counts[value_counts > 1].index.tolist()    \n",
    "   \n",
    "    # Remove rows where the first column matches any string in 'to_remove'\n",
    "    filtered_coordinates = coordinates[~coordinates['FileName'].isin(to_remove)]    \n",
    "    \n",
    "    # Get the rows where we have multiple digit files\n",
    "    multi_digit_files = coordinates[coordinates['FileName'].isin(to_remove)]\n",
    "    \n",
    "    # Save multidigit file names and labels in this file\n",
    "    np.save(outputFilename +'_multipleDigitPNG.npy', multi_digit_files)\n",
    "    \n",
    "    # Initialize an empty list to store image arrays\n",
    "    image_arrays = []\n",
    "    image_label_arrays = []\n",
    "    \n",
    "    # Loop through each file, load the image, and append its array to the list\n",
    "    for index, row in filtered_coordinates.iterrows():\n",
    "        if row['DigitLabel'] != 10:\n",
    "            image_path = os.path.join(imageFilepath, row['FileName'])\n",
    "            img = cv2.imread(image_path)\n",
    "           \n",
    "            resized_image = cv2.resize(img, (32, 32), interpolation=cv2.INTER_AREA)\n",
    "        \n",
    "            image_array = np.array(resized_image)\n",
    "            image_arrays.append(image_array)\n",
    "            \n",
    "            # image_label_array = np.array(row['DigitLabel'])\n",
    "            image_label_arrays.append(row['DigitLabel'])\n",
    "    \n",
    "    # Stack all image arrays into a single NumPy array\n",
    "    all_images_array = np.stack(image_arrays)\n",
    "    \n",
    "    # Save the NumPy array to a file\n",
    "    np.save(outputFilename +'_images.npy', all_images_array)\n",
    "    np.save(outputFilename + '_label.npy', image_label_arrays)\n",
    "   "
   ]
  },
  {
   "cell_type": "markdown",
   "id": "b619dc2a",
   "metadata": {},
   "source": [
    "Create a new single digit image file by splitting the image from multi-digit image."
   ]
  },
  {
   "cell_type": "code",
   "execution_count": 10,
   "id": "a76f9f5e",
   "metadata": {},
   "outputs": [],
   "source": [
    "def segmentImagesAndSaveNPYarray(ImageFilePath, multi_images_NPY, target):\n",
    "    mult_image_files = np.load(multi_images_NPY, allow_pickle=True)\n",
    "    image_list = []\n",
    "    image_label_list = []\n",
    "    for i in np.arange(len(mult_image_files)):\n",
    "        try:\n",
    "            # Load the original image\n",
    "            image = cv2.imread(ImageFilePath + \"\\\\\" + mult_image_files[i,0])  \n",
    "            coordinates = mult_image_files[i,2:]            \n",
    "            x=coordinates[0]\n",
    "            y=coordinates[1]\n",
    "            w=coordinates[2]\n",
    "            h=coordinates[3]        \n",
    "    \n",
    "            # Crop the image using array slicing\n",
    "            cropped_image = image[y:y+h, x:x+w]\n",
    "            \n",
    "            # Check if the image was loaded successfully\n",
    "            if cropped_image is None:\n",
    "                continue\n",
    "            resized_image = cv2.resize(cropped_image, (32, 32))\n",
    "            \n",
    "            img_array = np.array(resized_image)\n",
    "            image_list.append(img_array)\n",
    "            image_label_list.append(mult_image_files[i,1])\n",
    "        except cv2.error as e:\n",
    "            print(f\"Error resizing image at {mult_image_files[i,0]}: {e}. Skipping.\")\n",
    "            continue\n",
    "       \n",
    "    # Convert the List to a Numpy Array\n",
    "    image_array = np.stack(image_list)  \n",
    "    image_label_array = np.stack(image_label_list)  \n",
    "    \n",
    "    # Save the cropped images and labels\n",
    "    np.save(target + \"_images_singleImages.npy\", image_array)\n",
    "    np.save(target + \"_labels_singleImages.npy\", image_label_array)\n",
    " "
   ]
  },
  {
   "cell_type": "markdown",
   "id": "04eda661",
   "metadata": {},
   "source": [
    "Plot segmented image"
   ]
  },
  {
   "cell_type": "code",
   "execution_count": 11,
   "id": "868e5681",
   "metadata": {},
   "outputs": [],
   "source": [
    "def plotSegmentedImage(imageName):          \n",
    "    # Load the image\n",
    "    image = cv2.imread(imageName)    \n",
    "    plt.imshow(image, cmap='gray')\n",
    "    plt.show()"
   ]
  },
  {
   "cell_type": "markdown",
   "id": "61b42db3",
   "metadata": {},
   "source": [
    "Save image in a file"
   ]
  },
  {
   "cell_type": "code",
   "execution_count": 12,
   "id": "d0ff06c5",
   "metadata": {},
   "outputs": [],
   "source": [
    "def testSavedImages(plotTest_images,plot_Test_labels,n,target):\n",
    "    _, axes = plt.subplots(nrows=1, ncols = n, figsize=(16,4))\n",
    "    for ax, image, label in zip(axes, plotTest_images[0:n], plot_Test_labels):\n",
    "        ax.set_axis_off()\n",
    "        ax.imshow(image, cmap='gray')        \n",
    "        ax.set_title(target + \"%i\" % label)"
   ]
  },
  {
   "cell_type": "markdown",
   "id": "0c140030",
   "metadata": {},
   "source": [
    "Set the ImageFilePath where downloaded images are stored. Replace the string in ImageFilePath by the folder pathe where \n",
    "downloaded images are stored."
   ]
  },
  {
   "cell_type": "code",
   "execution_count": 17,
   "id": "1bf5cbf5",
   "metadata": {},
   "outputs": [],
   "source": [
    "ImageFilePath = \".\\\\temp\\\\\"\n",
    "multi_images_NPY = 'temp_multipleDigitPNG.npy'\n",
    "target = \".\\\\temp\\\\temp\""
   ]
  },
  {
   "cell_type": "markdown",
   "id": "3a0fddaa",
   "metadata": {},
   "source": [
    "Call to remove multi-digit image files"
   ]
  },
  {
   "cell_type": "code",
   "execution_count": null,
   "id": "227cc3b8",
   "metadata": {},
   "outputs": [],
   "source": [
    "removeMultiDigitFilesAndCreateNPYarray(ImageFilePath, target)"
   ]
  },
  {
   "cell_type": "markdown",
   "id": "03877600",
   "metadata": {},
   "source": [
    "Test the newly created numpy array files contaning image data"
   ]
  },
  {
   "cell_type": "code",
   "execution_count": null,
   "id": "224c3a95",
   "metadata": {},
   "outputs": [],
   "source": [
    "test_images_ = np.load(target + '_images.npy')\n",
    "test_labels_ = np.load(target + '_label.npy')\n",
    "n = 10\n",
    "_, axes = plt.subplots(nrows=1, ncols = 10, figsize=(16,4))\n",
    "for ax, image, label in zip(axes, test_images_[0:n], test_labels_):\n",
    "    ax.set_axis_off()\n",
    "    ax.imshow(image, cmap='gray')\n",
    "    \n",
    "    ax.set_title(target + \": %i\" % label)"
   ]
  },
  {
   "cell_type": "markdown",
   "id": "edadebe0",
   "metadata": {},
   "source": [
    "Store the single image numpy arrays as a seperate file. These files will be input to the digit classification algorithms."
   ]
  },
  {
   "cell_type": "code",
   "execution_count": null,
   "id": "31deacfd",
   "metadata": {},
   "outputs": [],
   "source": [
    "segmentImagesAndSaveNPYarray(ImageFilePath, multi_images_NPY, target)"
   ]
  },
  {
   "cell_type": "markdown",
   "id": "4e1df8f4",
   "metadata": {},
   "source": [
    "Test the single digit numpy array files."
   ]
  },
  {
   "cell_type": "code",
   "execution_count": null,
   "id": "e961f746",
   "metadata": {},
   "outputs": [],
   "source": [
    "test_images = np.load(target+'_images_singleImages.npy')\n",
    "test_labels = np.load(target+'_labels_singleImages.npy')\n",
    "testSavedImages(test_images,test_labels,5,target)"
   ]
  }
 ],
 "metadata": {
  "kernelspec": {
   "display_name": "Python 3 (ipykernel)",
   "language": "python",
   "name": "python3"
  },
  "language_info": {
   "codemirror_mode": {
    "name": "ipython",
    "version": 3
   },
   "file_extension": ".py",
   "mimetype": "text/x-python",
   "name": "python",
   "nbconvert_exporter": "python",
   "pygments_lexer": "ipython3",
   "version": "3.11.5"
  }
 },
 "nbformat": 4,
 "nbformat_minor": 5
}
