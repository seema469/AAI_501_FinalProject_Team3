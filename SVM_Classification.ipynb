{
 "cells": [
  {
   "cell_type": "code",
   "execution_count": 11,
   "id": "d9f63302-e15c-4194-9452-3ac7b254058f",
   "metadata": {},
   "outputs": [
    {
     "name": "stdout",
     "output_type": "stream",
     "text": [
      "Done importing\n"
     ]
    }
   ],
   "source": [
    "import numpy as np\n",
    "from sklearn import svm\n",
    "from sklearn.metrics import accuracy_score\n",
    "import time\n",
    "from sklearn.model_selection import train_test_split\n",
    "from sklearn.metrics import classification_report\n",
    "import matplotlib.pyplot as plt\n",
    "\n",
    "print('Done importing')"
   ]
  },
  {
   "cell_type": "code",
   "execution_count": 2,
   "id": "d60aad9d-ebaf-4c9c-939d-d0fe2729db31",
   "metadata": {},
   "outputs": [],
   "source": [
    "X_train = np.load('train_images_singleImages.npy')\n",
    "y_train = np.load('train_labels_singleImages.npy')\n",
    "X_test = np.load('test_images_singleImages.npy')\n",
    "y_test = np.load('test_labels_singleImages.npy')"
   ]
  },
  {
   "cell_type": "code",
   "execution_count": 3,
   "id": "230ad498-02f9-4585-8020-2e05ab75cfe8",
   "metadata": {},
   "outputs": [
    {
     "name": "stdout",
     "output_type": "stream",
     "text": [
      "Flattening training data set\n",
      "(68095, 3072)\n",
      "Done Flattening Training Data\n",
      "Flattening testing data set\n",
      "(23542, 3072)\n",
      "Done Flattening Training Data\n"
     ]
    }
   ],
   "source": [
    "print('Flattening training data set')\n",
    "flattened_data_X_train = X_train.reshape(-1, np.prod(X_train.shape[1:]))\n",
    "print(flattened_data_X_train.shape)\n",
    "print('Done Flattening Training Data')\n",
    "\n",
    "print('Flattening testing data set')\n",
    "flattened_data_X_test = X_test.reshape(-1, np.prod(X_test.shape[1:]))\n",
    "print(flattened_data_X_test.shape)\n",
    "print('Done Flattening Training Data')"
   ]
  },
  {
   "cell_type": "code",
   "execution_count": 4,
   "id": "2f95a378-6c6b-43fc-93d2-edf3ed8a67a3",
   "metadata": {},
   "outputs": [
    {
     "name": "stdout",
     "output_type": "stream",
     "text": [
      "Initializing SVM Classifier\n",
      "Done initializing SVM Classifier\n"
     ]
    }
   ],
   "source": [
    "print('Initializing SVM Classifier')\n",
    "svm_classifier = svm.SVC(kernel='poly', degree=8)\n",
    "print('Done initializing SVM Classifier')"
   ]
  },
  {
   "cell_type": "code",
   "execution_count": 5,
   "id": "3a6da4bc-3d69-4181-936f-97ff4510e20b",
   "metadata": {},
   "outputs": [
    {
     "name": "stdout",
     "output_type": "stream",
     "text": [
      "Training SVM Classifier...\n",
      "Done Training SVM Classifier\n"
     ]
    }
   ],
   "source": [
    "print('Training SVM Classifier...')\n",
    "svm_classifier.fit(flattened_data_X_train, y_train)\n",
    "print('Done Training SVM Classifier')"
   ]
  },
  {
   "cell_type": "code",
   "execution_count": 6,
   "id": "fcca0602-8198-4d44-a252-0eee2a8aaea4",
   "metadata": {},
   "outputs": [
    {
     "name": "stdout",
     "output_type": "stream",
     "text": [
      "Done predicting labels\n"
     ]
    }
   ],
   "source": [
    "y_train_pred = svm_classifier.predict(flattened_data_X_train)\n",
    "y_pred = svm_classifier.predict(flattened_data_X_test)\n",
    "print('Done predicting labels')"
   ]
  },
  {
   "cell_type": "code",
   "execution_count": 7,
   "id": "fb5f2558-ec78-4810-b5c6-f96932c83281",
   "metadata": {},
   "outputs": [
    {
     "name": "stdout",
     "output_type": "stream",
     "text": [
      "Training Accuracy: 0.9891915705998972\n",
      "Test Accuracy: 0.7547786933990315\n"
     ]
    }
   ],
   "source": [
    "train_accuracy = accuracy_score(y_train, y_train_pred)\n",
    "test_accuracy = accuracy_score(y_test, y_pred)\n",
    "\n",
    "print(\"Training Accuracy:\", train_accuracy)\n",
    "print(\"Test Accuracy:\", test_accuracy)"
   ]
  },
  {
   "cell_type": "code",
   "execution_count": 12,
   "id": "cf4f88c3-345c-4cd3-8296-7df607fff7d4",
   "metadata": {},
   "outputs": [
    {
     "data": {
      "image/png": "[encoded data removed]",
      "text/plain": [
       "<Figure size 1000x600 with 1 Axes>"
      ]
     },
     "metadata": {},
     "output_type": "display_data"
    },
    {
     "name": "stdout",
     "output_type": "stream",
     "text": [
      "Classification Report:\n",
      "              precision    recall  f1-score   support\n",
      "\n",
      "           1       0.72      0.85      0.78      4903\n",
      "           2       0.89      0.76      0.82      3745\n",
      "           3       0.76      0.64      0.70      2582\n",
      "           4       0.80      0.79      0.80      2289\n",
      "           5       0.81      0.69      0.74      2073\n",
      "           6       0.69      0.74      0.71      1699\n",
      "           7       0.76      0.75      0.76      1777\n",
      "           8       0.68      0.68      0.68      1402\n",
      "           9       0.61      0.73      0.66      1339\n",
      "          10       0.76      0.77      0.77      1733\n",
      "\n",
      "    accuracy                           0.75     23542\n",
      "   macro avg       0.75      0.74      0.74     23542\n",
      "weighted avg       0.76      0.75      0.76     23542\n",
      "\n"
     ]
    }
   ],
   "source": [
    "unique_classes, true_counts = np.unique(y_test, return_counts=True)\n",
    "\n",
    "correct_counts = np.zeros_like(true_counts)\n",
    "for i, class_ in enumerate(unique_classes):\n",
    "    correct_counts[i] = np.sum(y_pred[y_test == class_] == class_)\n",
    "\n",
    "plt.figure(figsize=(10, 6))\n",
    "plt.bar(unique_classes, true_counts, color='blue', label='Total Numbers')\n",
    "plt.bar(unique_classes, correct_counts, color='red', label='Correctly Predicted', alpha=0.7)\n",
    "plt.xlabel('Number')\n",
    "plt.ylabel('Count')\n",
    "plt.title('Total Numbers vs Correctly Predicted Numbers')\n",
    "plt.xticks(unique_classes)\n",
    "plt.legend()\n",
    "plt.show()\n",
    "\n",
    "report = classification_report(y_test, y_pred)\n",
    "\n",
    "print(\"Classification Report:\")\n",
    "print(report)"
   ]
  },
  {
   "cell_type": "code",
   "execution_count": 16,
   "id": "c9bbf0ef-7977-4db1-a211-86b51b2b6dbc",
   "metadata": {},
   "outputs": [
    {
     "name": "stdout",
     "output_type": "stream",
     "text": [
      "Misclassified Samples:\n"
     ]
    },
    {
     "data": {
      "image/png": "[encoded data removed]",
      "text/plain": [
       "<Figure size 640x480 with 1 Axes>"
      ]
     },
     "metadata": {},
     "output_type": "display_data"
    }
   ],
   "source": [
    "# Find misclassified samples (for analytics), made shorter for printing purposes\n",
    "misclassified_indices = np.where(y_pred != y_test)[0]\n",
    "misclassified_samples = X_test[misclassified_indices]\n",
    "true_labels = y_test[misclassified_indices]\n",
    "predicted_labels = y_pred[misclassified_indices]\n",
    "\n",
    "print(\"Misclassified Samples:\")\n",
    "for i in range(1): # change range accordingly\n",
    "    plt.imshow(misclassified_samples[i], cmap='gray')\n",
    "    plt.title(f'True Label: {true_labels[i]}, Predicted Label: {predicted_labels[i]}')\n",
    "    plt.axis('off')\n",
    "    plt.show()"
   ]
  },
  {
   "cell_type": "code",
   "execution_count": 17,
   "id": "bb8c976a-b159-41c7-beab-9cf5656fabad",
   "metadata": {},
   "outputs": [
    {
     "name": "stdout",
     "output_type": "stream",
     "text": [
      "Correctly Classified Samples:\n"
     ]
    },
    {
     "data": {
      "image/png": "[encoded data removed]",
      "text/plain": [
       "<Figure size 640x480 with 1 Axes>"
      ]
     },
     "metadata": {},
     "output_type": "display_data"
    }
   ],
   "source": [
    "# Get correctly classified samples, made shorter for printing purposes\n",
    "print(\"Correctly Classified Samples:\")\n",
    "correct_count = 0\n",
    "for i in range(len(X_test)):\n",
    "    if correct_count == 1: # change int accordingly\n",
    "        break\n",
    "    if y_pred[i] == y_test[i]:\n",
    "        plt.imshow(X_test[i], cmap='gray')\n",
    "        plt.title(f'True Label: {y_test[i]}, Predicted Label: {y_pred[i]}')\n",
    "        plt.axis('off')\n",
    "        plt.show()\n",
    "        correct_count += 1"
   ]
  },
  {
   "cell_type": "code",
   "execution_count": null,
   "id": "508dc649-c254-4874-bccf-226ed9e0e25b",
   "metadata": {},
   "outputs": [],
   "source": []
  }
 ],
 "metadata": {
  "kernelspec": {
   "display_name": "Python 3 (ipykernel)",
   "language": "python",
   "name": "python3"
  },
  "language_info": {
   "codemirror_mode": {
    "name": "ipython",
    "version": 3
   },
   "file_extension": ".py",
   "mimetype": "text/x-python",
   "name": "python",
   "nbconvert_exporter": "python",
   "pygments_lexer": "ipython3",
   "version": "3.10.5"
  }
 },
 "nbformat": 4,
 "nbformat_minor": 5
}
