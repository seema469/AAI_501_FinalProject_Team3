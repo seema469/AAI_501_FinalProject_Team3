{
 "cells": [
  {
   "cell_type": "code",
   "execution_count": 32,
   "id": "225b3a19-6bce-4fcc-8dd6-5cbaad794f85",
   "metadata": {},
   "outputs": [],
   "source": [
    "# Import required libraries\n",
    "import numpy as np\n",
    "import matplotlib.pyplot as plt\n",
    "import cv2"
   ]
  },
  {
   "cell_type": "code",
   "execution_count": 33,
   "id": "06f05e1d-ffc6-4f42-82aa-bd39fa85e944",
   "metadata": {},
   "outputs": [],
   "source": [
    "# Declare global variables for image and label\n",
    "global train_images\n",
    "global train_labels\n",
    "global test_images\n",
    "global test_labels\n",
    "\n",
    "# Load train/test dataset\n",
    "train_images = np.load('.\\\\archive\\\\X_train.npy')\n",
    "train_labels = np.load('.\\\\archive\\y_train.npy')\n",
    "test_images = np.load('.\\\\archive\\\\X_test.npy')\n",
    "test_labels = np.load('.\\\\archive\\\\y_test.npy')"
   ]
  },
  {
   "cell_type": "code",
   "execution_count": 34,
   "id": "c60c6dca-5e2b-4442-a2ab-2f7336e12e95",
   "metadata": {},
   "outputs": [],
   "source": [
    "def calculate_color_image_sharpness(image):\n",
    "    # Split the image into its channel components\n",
    "    channels = cv2.split(image)\n",
    "    \n",
    "    # Apply the Laplacian operator to each channel\n",
    "    laplacian_channels = [cv2.Laplacian(channel, cv2.CV_64F) for channel in channels]\n",
    "    \n",
    "    # Calculate the variance of the Laplacian for each channel and sum them\n",
    "    sharpness = sum(np.var(laplacian) for laplacian in laplacian_channels)\n",
    "    \n",
    "    return sharpness"
   ]
  },
  {
   "cell_type": "code",
   "execution_count": 35,
   "id": "3bb01894-8aba-4605-9696-a3e89fc65f88",
   "metadata": {},
   "outputs": [],
   "source": [
    "def find_blurry_color_images(images_array, sharpness_threshold):\n",
    "    # Initialize a list to hold indices of blurry images\n",
    "    blurry_images_indices = []\n",
    "\n",
    "    # Iterate over each image in the dataset\n",
    "    for i in range(images_array.shape[3]):\n",
    "        image_i = images_array[:, :, :, i]     \n",
    "        \n",
    "        # Calculate the sharpness of the current image\n",
    "        sharpness = calculate_color_image_sharpness(image_i)\n",
    "        \n",
    "        # If the sharpness is below the threshold, it's considered blurry\n",
    "        if sharpness < sharpness_threshold:\n",
    "            blurry_images_indices.append(i)\n",
    "    \n",
    "    return blurry_images_indices"
   ]
  },
  {
   "cell_type": "code",
   "execution_count": 36,
   "id": "21ac992a-8922-452d-9027-dbe76f41f41a",
   "metadata": {
    "tags": []
   },
   "outputs": [],
   "source": [
    "# Preprocess images \n",
    "def preprocessImages():\n",
    "    global train_images\n",
    "    global train_labels\n",
    "    global test_images\n",
    "    global test_labels\n",
    "    sharpness_threshold = 0.015 \n",
    "    \n",
    "    blurry_images_ind = find_blurry_color_images(train_images, sharpness_threshold)\n",
    "    train_images = np.delete(train_images,blurry_images_ind, axis=3)\n",
    "    print('sharp_images:' , train_images.shape[3])   \n",
    "    train_labels = np.delete(train_labels, blurry_images_ind, axis=0)\n",
    "    print('train sharp_images: ' , train_images.shape[3], train_labels.shape)\n",
    "    \n",
    "    \n",
    "    blurry_images_ind = find_blurry_color_images(test_images, sharpness_threshold)    \n",
    "    test_images = np.delete(test_images, blurry_images_ind, axis=3)\n",
    "    test_labels = np.delete(test_labels, blurry_images_ind, axis=0)\n",
    "    print('test sharp_images:' , test_images.shape[3], test_labels.shape)\n",
    "    \n",
    "    # Transpose the array to shape (number of rows, ht, w, channel) \n",
    "    train_images = np.transpose(train_images, (3, 0, 1, 2))\n",
    "    test_images = np.transpose(test_images, (3, 0, 1, 2))\n",
    "    \n",
    "    # Convert to grayscale\n",
    "    train_images = np.dot(train_images[...,:3], [0.2989, 0.5870, 0.1140])\n",
    "    test_images = np.dot(test_images[...,:3], [0.2989, 0.5870, 0.1140])\n",
    "    \n",
    "    # Resize images to 28x28\n",
    "    train_images = np.array([cv2.resize(img, (28,28)) for img in train_images])\n",
    "    test_images = np.array([cv2.resize(img, (28,28)) for img in test_images])"
   ]
  },
  {
   "cell_type": "code",
   "execution_count": 37,
   "id": "f3ed735f-9d5c-4228-972d-03be472a5dc7",
   "metadata": {
    "tags": []
   },
   "outputs": [
    {
     "name": "stdout",
     "output_type": "stream",
     "text": [
      "sharp_images: 22888\n",
      "train sharp_images:  22888 (22888, 1)\n",
      "test sharp_images: 5649 (5649, 1)\n"
     ]
    }
   ],
   "source": [
    "preprocessImages()"
   ]
  },
  {
   "cell_type": "code",
   "execution_count": 38,
   "id": "1984b06a-30f9-415b-a886-03579099a336",
   "metadata": {
    "tags": []
   },
   "outputs": [
    {
     "data": {
      "image/png": "[encoded data removed]",
      "text/plain": [
       "<Figure size 640x480 with 1 Axes>"
      ]
     },
     "metadata": {},
     "output_type": "display_data"
    }
   ],
   "source": [
    "# Just for image display\n",
    "plt.imshow(train_images[13],cmap='gray')\n",
    "plt.show()"
   ]
  },
  {
   "cell_type": "code",
   "execution_count": null,
   "id": "14897b15-4b9c-4ebf-9dfd-ab712bf31cdb",
   "metadata": {},
   "outputs": [],
   "source": []
  }
 ],
 "metadata": {
  "kernelspec": {
   "display_name": "Python 3 (ipykernel)",
   "language": "python",
   "name": "python3"
  },
  "language_info": {
   "codemirror_mode": {
    "name": "ipython",
    "version": 3
   },
   "file_extension": ".py",
   "mimetype": "text/x-python",
   "name": "python",
   "nbconvert_exporter": "python",
   "pygments_lexer": "ipython3",
   "version": "3.11.5"
  }
 },
 "nbformat": 4,
 "nbformat_minor": 5
}
