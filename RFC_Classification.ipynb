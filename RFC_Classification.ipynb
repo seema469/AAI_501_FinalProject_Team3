{
 "cells": [
  {
   "cell_type": "code",
   "execution_count": 1,
   "metadata": {
    "colab": {
     "base_uri": "https://localhost:8080/"
    },
    "id": "acaQ2rJlXDye",
    "outputId": "27133ce3-b108-4a30-a90b-562cdfde6661"
   },
   "outputs": [
    {
     "name": "stdout",
     "output_type": "stream",
     "text": [
      "Mounted at /content/drive\n"
     ]
    }
   ],
   "source": [
    "from google.colab import drive\n",
    "drive.mount('/content/drive')"
   ]
  },
  {
   "cell_type": "code",
   "execution_count": 2,
   "metadata": {
    "id": "maO7_wbCW2JW"
   },
   "outputs": [],
   "source": [
    "# -*- coding: utf-8 -*-\n",
    "\"\"\"\n",
    "Combine the training image files in a single file.\n",
    "\"\"\"\n",
    "\n",
    "import numpy as np\n",
    "split1 = np.load('/content/drive/My Drive/Project 501/train_split1.npy')\n",
    "split2 = np.load('/content/drive/My Drive/Project 501/train_split2.npy')\n",
    "split3 = np.load('/content/drive/My Drive/Project 501/train_split3.npy')\n",
    "split4 = np.load('/content/drive/My Drive/Project 501/train_split4.npy')\n",
    "\n",
    "combined_data = np.concatenate((split1, split2, split3, split4))\n",
    "\n",
    "np.save(\"/content/drive/My Drive/Project 501/train_images_singleImages.npy\", combined_data)"
   ]
  },
  {
   "cell_type": "code",
   "execution_count": 3,
   "metadata": {
    "colab": {
     "base_uri": "https://localhost:8080/"
    },
    "id": "ABAG7OrhZJ6y",
    "outputId": "519f3630-1ab8-4583-ccff-f6c5329b5135"
   },
   "outputs": [
    {
     "name": "stdout",
     "output_type": "stream",
     "text": [
      "Starting\n"
     ]
    }
   ],
   "source": [
    "print('Starting')\n",
    "# Load the training images from the NumPy file\n",
    "X_train = np.load('/content/drive/My Drive/Project 501/train_images_singleImages.npy')\n",
    "y_train = np.load('/content/drive/My Drive/Project 501/train_labels_singleImages.npy')\n",
    "X_test = np.load('/content/drive/My Drive/Project 501/test_images_singleImages.npy')\n",
    "y_test = np.load('/content/drive/My Drive/Project 501/test_labels_singleImages.npy')"
   ]
  },
  {
   "cell_type": "code",
   "execution_count": 4,
   "metadata": {
    "colab": {
     "base_uri": "https://localhost:8080/"
    },
    "id": "RMpUu1QDaRKM",
    "outputId": "0927f42a-2453-4ba5-e9df-f52fa52fe4ff"
   },
   "outputs": [
    {
     "name": "stdout",
     "output_type": "stream",
     "text": [
      "Original Shape: (68095, 32, 32, 3)\n",
      "Flattened Shape: (68095, 3072)\n"
     ]
    }
   ],
   "source": [
    "# Get the shape of the dataset\n",
    "original_shape = X_train.shape# Flatten the dataset into a 1-dimensional array\n",
    "flattened_data = X_train.reshape(-1, np.prod(original_shape[1:]))\n",
    "print('Original Shape:', original_shape)\n",
    "print('Flattened Shape:', flattened_data.shape)"
   ]
  },
  {
   "cell_type": "code",
   "execution_count": 27,
   "metadata": {
    "colab": {
     "base_uri": "https://localhost:8080/"
    },
    "id": "4GeGwbrY1XZe",
    "outputId": "6096515c-1f8b-4453-a9a4-775ad2786627"
   },
   "outputs": [
    {
     "name": "stdout",
     "output_type": "stream",
     "text": [
      "Original Shape: (23542, 32, 32, 3)\n",
      "Flattened Shape: (23542, 3072)\n"
     ]
    }
   ],
   "source": [
    "original_shape = X_test.shape\n",
    "flattened_dataT = X_test.reshape(-1, np.prod(original_shape[1:]))\n",
    "print('Original Shape:', original_shape)\n",
    "print('Flattened Shape:', flattened_dataT.shape)"
   ]
  },
  {
   "cell_type": "code",
   "execution_count": 23,
   "metadata": {
    "id": "VW4ZXeuilCnV"
   },
   "outputs": [],
   "source": [
    "# Randomly sample a subset of the training data\n",
    "#subset_size = 1000  # Choose your desired subset size\n",
    "#random_indices = np.random.choice(flattened_data.shape[0], size=subset_size, replace=False)\n",
    "#X_train_subset = flattened_data[random_indices]\n",
    "#y_train_subset = y_train[random_indices]#training with 10000 of this subset returned 57% on the RF"
   ]
  },
  {
   "cell_type": "code",
   "execution_count": 8,
   "metadata": {
    "id": "tewVq9pmb0TF"
   },
   "outputs": [],
   "source": [
    "from sklearn.model_selection import train_test_split\n",
    "from sklearn.ensemble import RandomForestClassifier\n",
    "from sklearn.metrics import accuracy_score"
   ]
  },
  {
   "cell_type": "code",
   "execution_count": 9,
   "metadata": {
    "colab": {
     "base_uri": "https://localhost:8080/"
    },
    "id": "U-KSi58gyhw4",
    "outputId": "06f8dda5-7675-4a58-8839-0961235ed0e1"
   },
   "outputs": [
    {
     "name": "stdout",
     "output_type": "stream",
     "text": [
      "Collecting scikit-optimize\n",
      "  Downloading scikit_optimize-0.10.1-py2.py3-none-any.whl (107 kB)\n",
      "\u001b[?25l     \u001b[90m━━━━━━━━━━━━━━━━━━━━━━━━━━━━━━━━━━━━━━━━\u001b[0m \u001b[32m0.0/107.7 kB\u001b[0m \u001b[31m?\u001b[0m eta \u001b[36m-:--:--\u001b[0m\r",
      "\u001b[2K     \u001b[90m━━━━━━━━━━━━━━━━━━━━━━━━━━━━━━━━━━━━━━━━\u001b[0m \u001b[32m107.7/107.7 kB\u001b[0m \u001b[31m3.1 MB/s\u001b[0m eta \u001b[36m0:00:00\u001b[0m\n",
      "\u001b[?25hRequirement already satisfied: joblib>=0.11 in /usr/local/lib/python3.10/dist-packages (from scikit-optimize) (1.4.0)\n",
      "Collecting pyaml>=16.9 (from scikit-optimize)\n",
      "  Downloading pyaml-23.12.0-py3-none-any.whl (23 kB)\n",
      "Requirement already satisfied: numpy>=1.20.3 in /usr/local/lib/python3.10/dist-packages (from scikit-optimize) (1.25.2)\n",
      "Requirement already satisfied: scipy>=1.1.0 in /usr/local/lib/python3.10/dist-packages (from scikit-optimize) (1.11.4)\n",
      "Requirement already satisfied: scikit-learn>=1.0.0 in /usr/local/lib/python3.10/dist-packages (from scikit-optimize) (1.2.2)\n",
      "Requirement already satisfied: packaging>=21.3 in /usr/local/lib/python3.10/dist-packages (from scikit-optimize) (24.0)\n",
      "Requirement already satisfied: PyYAML in /usr/local/lib/python3.10/dist-packages (from pyaml>=16.9->scikit-optimize) (6.0.1)\n",
      "Requirement already satisfied: threadpoolctl>=2.0.0 in /usr/local/lib/python3.10/dist-packages (from scikit-learn>=1.0.0->scikit-optimize) (3.4.0)\n",
      "Installing collected packages: pyaml, scikit-optimize\n",
      "Successfully installed pyaml-23.12.0 scikit-optimize-0.10.1\n"
     ]
    }
   ],
   "source": [
    "!pip install scikit-optimize"
   ]
  },
  {
   "cell_type": "code",
   "execution_count": 18,
   "metadata": {
    "id": "dskLwMbuoWmu"
   },
   "outputs": [],
   "source": [
    "from skopt import BayesSearchCV\n",
    "from skopt.space import Real, Integer, Categorical"
   ]
  },
  {
   "cell_type": "code",
   "execution_count": 24,
   "metadata": {
    "colab": {
     "base_uri": "https://localhost:8080/"
    },
    "id": "28F0sOKnoUyT",
    "outputId": "02c81d0f-1be7-4b26-bea5-0f06040ce99f"
   },
   "outputs": [
    {
     "name": "stderr",
     "output_type": "stream",
     "text": [
      "/usr/local/lib/python3.10/dist-packages/sklearn/ensemble/_forest.py:424: FutureWarning: `max_features='auto'` has been deprecated in 1.1 and will be removed in 1.3. To keep the past behaviour, explicitly set `max_features='sqrt'` or remove this parameter as it is also the default value for RandomForestClassifiers and ExtraTreesClassifiers.\n",
      "  warn(\n"
     ]
    },
    {
     "name": "stdout",
     "output_type": "stream",
     "text": [
      "Best hyperparameters found:\n",
      "OrderedDict([('max_depth', 20), ('max_features', 'auto'), ('min_samples_leaf', 1), ('min_samples_split', 2), ('n_estimators', 121)])\n"
     ]
    }
   ],
   "source": [
    "#param_space = {\n",
    "#   'n_estimators': Integer(10, 200),  # Number of trees in the forest\n",
    "#   'max_depth': Integer(3, 20),        # Maximum depth of the trees\n",
    "#   'min_samples_split': Integer(2, 10), # Minimum number of samples required to split a node\n",
    "#   'min_samples_leaf': Integer(1, 10),  # Minimum number of samples required at each leaf node\n",
    "#   'max_features': Categorical(['auto', 'sqrt', 'log2']),} # Maximum number of features to consider for splitting\n",
    "\n",
    "#opt = BayesSearchCV(\n",
    "#       estimator=rf_classifier,\n",
    "#       search_spaces=param_space,\n",
    "#       scoring='accuracy',\n",
    "#       n_iter=50,  # number of iterations for optimization\n",
    "#       cv=5,       # number of cross-validation folds\n",
    "#       n_jobs=-1,  # parallelize across all CPU cores\n",
    "#       random_state=42)\n",
    "\n",
    "#opt.fit(X_train_subset, y_train_subset)\n",
    "\n",
    "#print(\"Best hyperparameters found:\")\n",
    "#print(opt.best_params_)  #This code was used for the hypertuning of both 1000 and 10000 indices for comparison"
   ]
  },
  {
   "cell_type": "code",
   "execution_count": 28,
   "metadata": {
    "colab": {
     "base_uri": "https://localhost:8080/"
    },
    "id": "ODHLRBCgY1ft",
    "outputId": "90798f12-6692-4e63-ea72-aad7804d4fb6"
   },
   "outputs": [
    {
     "name": "stdout",
     "output_type": "stream",
     "text": [
      "Accuracy: 0.6745815988446181\n"
     ]
    }
   ],
   "source": [
    "# Create Random Forest classifier\n",
    "rf_classifier = RandomForestClassifier(n_estimators=100, random_state=42)\n",
    "\n",
    "# Train the classifier\n",
    "rf_classifier.fit(flattened_data, y_train)\n",
    "\n",
    "# Predict on test data\n",
    "y_pred = rf_classifier.predict(flattened_dataT)\n",
    "\n",
    "# Evaluate accuracy\n",
    "accuracy = accuracy_score(y_test, y_pred)\n",
    "print(\"Accuracy:\", accuracy)"
   ]
  }
 ],
 "metadata": {
  "colab": {
   "provenance": [],
   "toc_visible": true
  },
  "kernelspec": {
   "display_name": "Python 3 (ipykernel)",
   "language": "python",
   "name": "python3"
  },
  "language_info": {
   "codemirror_mode": {
    "name": "ipython",
    "version": 3
   },
   "file_extension": ".py",
   "mimetype": "text/x-python",
   "name": "python",
   "nbconvert_exporter": "python",
   "pygments_lexer": "ipython3",
   "version": "3.11.5"
  }
 },
 "nbformat": 4,
 "nbformat_minor": 1
}
